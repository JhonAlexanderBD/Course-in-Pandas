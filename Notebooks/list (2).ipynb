{
 "cells": [
  {
   "cell_type": "markdown",
   "id": "e296732e",
   "metadata": {},
   "source": [
    "#### Lists"
   ]
  },
  {
   "cell_type": "code",
   "execution_count": 1,
   "id": "f52f9e25",
   "metadata": {},
   "outputs": [],
   "source": [
    "#import libraries\n",
    "import numpy as np\n",
    "import pandas as pd"
   ]
  },
  {
   "cell_type": "raw",
   "id": "5233b98d",
   "metadata": {},
   "source": [
    "Basic Structure of a list\n",
    "\n",
    "Lists can have diferent datatypes\n",
    "\n",
    "In this Course we will learn how to manipulate\n"
   ]
  },
  {
   "cell_type": "code",
   "execution_count": 2,
   "id": "5e2af915",
   "metadata": {},
   "outputs": [
    {
     "name": "stdout",
     "output_type": "stream",
     "text": [
      "(3, 4, 5, 2, 5, 'g', 2, 'True', 3.2)\n"
     ]
    }
   ],
   "source": [
    "list1 = (3,4,5,2,5,'g',2,'True',3.2)\n",
    "\n",
    "print(list1)"
   ]
  },
  {
   "cell_type": "raw",
   "id": "7b505f89",
   "metadata": {},
   "source": [
    "Index of a list meas know data in diferente positions\n",
    "\n",
    "list1[0] is the first position of list1"
   ]
  },
  {
   "cell_type": "code",
   "execution_count": 3,
   "id": "5a8ddb5e",
   "metadata": {},
   "outputs": [
    {
     "data": {
      "text/plain": [
       "3"
      ]
     },
     "execution_count": 3,
     "metadata": {},
     "output_type": "execute_result"
    }
   ],
   "source": [
    "list1[0]"
   ]
  },
  {
   "cell_type": "code",
   "execution_count": 4,
   "id": "c5d60fba",
   "metadata": {},
   "outputs": [
    {
     "data": {
      "text/plain": [
       "5"
      ]
     },
     "execution_count": 4,
     "metadata": {},
     "output_type": "execute_result"
    }
   ],
   "source": [
    "#Third position of my list\n",
    "list1[2]"
   ]
  },
  {
   "cell_type": "code",
   "execution_count": 5,
   "id": "0018c88a",
   "metadata": {},
   "outputs": [
    {
     "data": {
      "text/plain": [
       "'True'"
      ]
     },
     "execution_count": 5,
     "metadata": {},
     "output_type": "execute_result"
    }
   ],
   "source": [
    "# second last position of my list\n",
    "list1[-2]"
   ]
  },
  {
   "cell_type": "raw",
   "id": "7324fc9b",
   "metadata": {},
   "source": [
    "Now we can collect small part of a list\n",
    "list2 means we chose list1 from 0 position to 4 position, each of them\n",
    "list3 means we take list1 from 3 to 8 position, every 2 steps\n",
    "list4 we take 4 position to end, every 3"
   ]
  },
  {
   "cell_type": "code",
   "execution_count": 6,
   "id": "f4cafd77",
   "metadata": {},
   "outputs": [],
   "source": [
    "list2 = list1[0:4:1]\n",
    "list3 = list1[3:8:2]\n",
    "list4 = list1[4::3]"
   ]
  },
  {
   "cell_type": "code",
   "execution_count": 7,
   "id": "133aff5d",
   "metadata": {},
   "outputs": [
    {
     "data": {
      "text/plain": [
       "(3, 4, 5, 2)"
      ]
     },
     "execution_count": 7,
     "metadata": {},
     "output_type": "execute_result"
    }
   ],
   "source": [
    "list2"
   ]
  },
  {
   "cell_type": "code",
   "execution_count": 8,
   "id": "12cc37f5",
   "metadata": {},
   "outputs": [
    {
     "data": {
      "text/plain": [
       "(2, 'g', 'True')"
      ]
     },
     "execution_count": 8,
     "metadata": {},
     "output_type": "execute_result"
    }
   ],
   "source": [
    "list3"
   ]
  },
  {
   "cell_type": "code",
   "execution_count": 9,
   "id": "ce1a50ff",
   "metadata": {},
   "outputs": [
    {
     "data": {
      "text/plain": [
       "(5, 'True')"
      ]
     },
     "execution_count": 9,
     "metadata": {},
     "output_type": "execute_result"
    }
   ],
   "source": [
    "list4"
   ]
  },
  {
   "cell_type": "markdown",
   "id": "4e63299e",
   "metadata": {},
   "source": [
    "##### Now you know the most important concepts of list\n",
    "##### If you dont understand some concepts or you want to give ideas you can contact me\n",
    "###### jhoalexander@protonmail.com"
   ]
  },
  {
   "cell_type": "code",
   "execution_count": 10,
   "id": "b86a70fd",
   "metadata": {},
   "outputs": [
    {
     "data": {
      "text/plain": [
       "[2, 3, 4, 1, 3, 4, 'wer', 'e', 3.43, 1, 9, True]"
      ]
     },
     "execution_count": 10,
     "metadata": {},
     "output_type": "execute_result"
    }
   ],
   "source": [
    "#Excercises\n",
    "list21 = [2,3,4,1,3,4,\"wer\",'e',3.43,1,9, True]\n",
    "list21"
   ]
  },
  {
   "cell_type": "markdown",
   "id": "666482e1",
   "metadata": {},
   "source": [
    "##### 1.0 Creat a list with 10 elements and use diferent data types\n",
    "##### 2.0 Give position  3 ,5, 7 in diferents lists of list21\n",
    "##### 3.0 Do a list from 4 position to end"
   ]
  },
  {
   "cell_type": "code",
   "execution_count": null,
   "id": "502c8654",
   "metadata": {},
   "outputs": [],
   "source": []
  }
 ],
 "metadata": {
  "kernelspec": {
   "display_name": "Python 3 (ipykernel)",
   "language": "python",
   "name": "python3"
  },
  "language_info": {
   "codemirror_mode": {
    "name": "ipython",
    "version": 3
   },
   "file_extension": ".py",
   "mimetype": "text/x-python",
   "name": "python",
   "nbconvert_exporter": "python",
   "pygments_lexer": "ipython3",
   "version": "3.9.7"
  }
 },
 "nbformat": 4,
 "nbformat_minor": 5
}
